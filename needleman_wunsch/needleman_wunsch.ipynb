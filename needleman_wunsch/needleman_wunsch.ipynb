{
  "nbformat": 4,
  "nbformat_minor": 0,
  "metadata": {
    "colab": {
      "name": "011161256.ipynb",
      "provenance": []
    },
    "kernelspec": {
      "name": "python3",
      "display_name": "Python 3"
    }
  },
  "cells": [
    {
      "cell_type": "code",
      "metadata": {
        "id": "puyW_SaExZ3e",
        "colab_type": "code",
        "colab": {}
      },
      "source": [
        "import numpy as np"
      ],
      "execution_count": 0,
      "outputs": []
    },
    {
      "cell_type": "code",
      "metadata": {
        "id": "CT5855zj3LmZ",
        "colab_type": "code",
        "colab": {
          "base_uri": "https://localhost:8080/",
          "height": 68
        },
        "outputId": "afc9d3ee-e611-4cf5-ff47-f39f0c13f04f"
      },
      "source": [
        "match_award=int(input(\"Enter a match_award Value \\t\"))\n",
        "gap_penalty=int(input(\"Enter a gap_penalty Value \\t\"))\n",
        "mismatch_penalty=int(input(\"Enter a mismatch_penalty Value \\t\"))"
      ],
      "execution_count": 39,
      "outputs": [
        {
          "output_type": "stream",
          "text": [
            "Enter a match_award Value \t2\n",
            "Enter a gap_penalty Value \t-1\n",
            "Enter a mismatch_penalty Value \t-2\n"
          ],
          "name": "stdout"
        }
      ]
    },
    {
      "cell_type": "code",
      "metadata": {
        "id": "uFtQsqhS3MgL",
        "colab_type": "code",
        "colab": {
          "base_uri": "https://localhost:8080/",
          "height": 51
        },
        "outputId": "5c3a40a4-a852-4095-db47-8649e878d1f2"
      },
      "source": [
        "seq_s=input(\"Enter a 1st sequence \\t\")\n",
        "seq_t=input(\"Enter a 2nd sequence \\t\")"
      ],
      "execution_count": 40,
      "outputs": [
        {
          "output_type": "stream",
          "text": [
            "Enter a 1st sequence \tGGTTGACTA\n",
            "Enter a 2nd sequence \tTGTTACGG\n"
          ],
          "name": "stdout"
        }
      ]
    },
    {
      "cell_type": "code",
      "metadata": {
        "id": "tAACRGuqxe60",
        "colab_type": "code",
        "colab": {}
      },
      "source": [
        "def match_score(x,y):\n",
        "    if x=='-' or y=='-':\n",
        "        return gap_penalty\n",
        "    elif x==y:\n",
        "        return match_award\n",
        "    else:\n",
        "        return mismatch_penalty"
      ],
      "execution_count": 0,
      "outputs": []
    },
    {
      "cell_type": "code",
      "metadata": {
        "id": "L5pOnWLD5dzj",
        "colab_type": "code",
        "outputId": "6f6e0750-ea48-4c51-9c20-8d931d080d7b",
        "colab": {
          "base_uri": "https://localhost:8080/",
          "height": 187
        }
      },
      "source": [
        "def needleman_wunsch(seq_s, seq_t):\n",
        "   \n",
        "    m=len(seq_s) #length 1st sequence\n",
        "    n=len(seq_t) #length 2nd sequence\n",
        "    V=np.zeros((m+1,n+1),dtype=int)    #zeros matrix\n",
        "    \n",
        "    for i in range(1,m+1):             #for column\n",
        "        V[i][0]=gap_penalty*i\n",
        "     \n",
        "    for j in range(1,n+1):             #for row\n",
        "        V[0][j]=gap_penalty*j\n",
        "    \n",
        "    for i in range(1,m+1):              #nested loop\n",
        "        for j in range(1,n+1): \n",
        "            match=V[i-1][j-1]+match_score(seq_s[i-1],seq_t[j-1])         #for diagonal\n",
        "            delete=V[i-1][j]+gap_penalty                       #for top \n",
        "            insert=V[i][j-1]+gap_penalty                        #for left\n",
        "            V[i][j]=max(match,delete,insert)      #for max score\n",
        "\n",
        "    return V\n",
        "    \n",
        "\n",
        "print(np.matrix(needleman_wunsch(seq_s,seq_t)))\n",
        "\n",
        " "
      ],
      "execution_count": 62,
      "outputs": [
        {
          "output_type": "stream",
          "text": [
            "[[ 0 -1 -2 -3 -4 -5 -6 -7 -8]\n",
            " [-1 -2  1  0 -1 -2 -3 -4 -5]\n",
            " [-2 -3  0 -1 -2 -3 -4 -1 -2]\n",
            " [-3  0 -1  2  1  0 -1 -2 -3]\n",
            " [-4 -1 -2  1  4  3  2  1  0]\n",
            " [-5 -2  1  0  3  2  1  4  3]\n",
            " [-6 -3  0 -1  2  5  4  3  2]\n",
            " [-7 -4 -1 -2  1  4  7  6  5]\n",
            " [-8 -5 -2  1  0  3  6  5  4]\n",
            " [-9 -6 -3  0 -1  2  5  4  3]]\n"
          ],
          "name": "stdout"
        }
      ]
    },
    {
      "cell_type": "code",
      "metadata": {
        "id": "n8IENvpL7d5_",
        "colab_type": "code",
        "colab": {
          "base_uri": "https://localhost:8080/",
          "height": 248
        },
        "outputId": "64f0d9ef-9b86-4757-c538-70a612fd0653"
      },
      "source": [
        "def needleman_wunsch(seq_s, seq_t):\n",
        "   \n",
        "    m=len(seq_s) #length 1st sequence\n",
        "    n=len(seq_t) #length 2nd sequence\n",
        "    F=np.zeros((m+1,n+1),dtype=int)    # Generate zeros matrix to store scores   \n",
        "    for i in range(1,m+1):             #for column\n",
        "        F[i][0]=mismatch_penalty*i\n",
        "     \n",
        "    for j in range(1,n+1):             #for row\n",
        "        F[0][j]=mismatch_penalty*j\n",
        "    \n",
        "    for i in range(1,m+1):              #nested loop\n",
        "        for j in range(1,n+1): \n",
        "            match=F[i-1][j-1]+match_score(seq_s[i-1],seq_t[j-1])         #for diagonal\n",
        "            delete=F[i-1][j]+mismatch_penalty                       #for top \n",
        "            insert=F[i][j-1]+mismatch_penalty                        #for left\n",
        "            F[i][j]=max(match,delete,insert)      #for max score\n",
        "    \n",
        "# Traceback the alignment \n",
        "    alignA = \"\"\n",
        "    alignB = \"\"\n",
        "    i = m\n",
        "    j = n\n",
        "    opt_score=int(0)\n",
        "    \n",
        "    \n",
        "    while i > 0 and j > 0:\n",
        "        if F[i][j] == F[i-1][j-1] + match_score(seq_s[i-1], seq_t[j-1]):\n",
        "            alignA += seq_s[i-1]\n",
        "            alignB += seq_t[j-1]\n",
        "           # opt_score+=match_score(seq_s[i-1],seq_t[j-1])\n",
        "            i -= 1\n",
        "            j -= 1\n",
        "\n",
        "        elif F[i][j] == F[i-1][j] + mismatch_penalty:\n",
        "            alignA += seq_s[i-1]\n",
        "            alignB += '-'\n",
        "            #opt_score+=opt_score+mismatch_penalty\n",
        "            i -= 1\n",
        "\n",
        "        elif F[i][j] == F[i][j-1] + mismatch_penalty:\n",
        "            alignA += '-'\n",
        "            alignB += seq_t[j-1]\n",
        "            opt_score+=opt_score+mismatch_penalty\n",
        "            j -= 1\n",
        "            \n",
        "\n",
        "    # Finish tracing up to the top left cell\n",
        "    while j > 0:\n",
        "        alignA += seq_s[j-1]\n",
        "        alignB += '-'\n",
        "        j -= 1\n",
        "    while i > 0:\n",
        "        alignA += '-'\n",
        "        alignB += seq_t[i-1]\n",
        "        i -= 1\n",
        "    alignA = alignA[::-1]\n",
        "    alignB = alignB[::-1]\n",
        "    \n",
        "    return(alignA, alignB)\n",
        "\n",
        "output1, output2 = needleman_wunsch(seq_s, seq_t)\n",
        "\n",
        "print(output1 + \"\\n\" + output2)\n",
        "\n",
        "#print(\"s\" + alignA[::-1])\n",
        "#print(\"s\" + alignB[::-1])\n",
        "#print(opt_score)\n",
        "    "
      ],
      "execution_count": 47,
      "outputs": [
        {
          "output_type": "stream",
          "text": [
            "GGTTGACTA\n",
            "TGTT-ACGG\n"
          ],
          "name": "stdout"
        },
        {
          "output_type": "error",
          "ename": "NameError",
          "evalue": "ignored",
          "traceback": [
            "\u001b[0;31m---------------------------------------------------------------------------\u001b[0m",
            "\u001b[0;31mNameError\u001b[0m                                 Traceback (most recent call last)",
            "\u001b[0;32m<ipython-input-47-15329d1c9c4a>\u001b[0m in \u001b[0;36m<module>\u001b[0;34m()\u001b[0m\n\u001b[1;32m     66\u001b[0m \u001b[0;31m#print(\"s\" + align1[::-1])\u001b[0m\u001b[0;34m\u001b[0m\u001b[0;34m\u001b[0m\u001b[0;34m\u001b[0m\u001b[0m\n\u001b[1;32m     67\u001b[0m \u001b[0;31m#print(\"s\" + align2[::-1])\u001b[0m\u001b[0;34m\u001b[0m\u001b[0;34m\u001b[0m\u001b[0;34m\u001b[0m\u001b[0m\n\u001b[0;32m---> 68\u001b[0;31m \u001b[0mprint\u001b[0m\u001b[0;34m(\u001b[0m\u001b[0mopt_score\u001b[0m\u001b[0;34m)\u001b[0m\u001b[0;34m\u001b[0m\u001b[0;34m\u001b[0m\u001b[0m\n\u001b[0m\u001b[1;32m     69\u001b[0m \u001b[0;34m\u001b[0m\u001b[0m\n",
            "\u001b[0;31mNameError\u001b[0m: name 'opt_score' is not defined"
          ]
        }
      ]
    }
  ]
}